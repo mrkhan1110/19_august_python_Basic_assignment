{
 "cells": [
  {
   "cell_type": "markdown",
   "id": "56675920-1f9d-48f3-af63-f1780d1e4525",
   "metadata": {},
   "source": [
    "Python Basics Variable"
   ]
  },
  {
   "cell_type": "markdown",
   "id": "dd30059c-4992-41dc-b40d-1497901ec262",
   "metadata": {},
   "source": [
    "Q1) Declare Two Variables, 'x' and 'y' ,and assign them integer Values. Swap the Values of these variables without using any temporary Variable"
   ]
  },
  {
   "cell_type": "code",
   "execution_count": 1,
   "id": "9b5f0f29-055b-4c77-b75a-b9ae10eac159",
   "metadata": {},
   "outputs": [],
   "source": [
    "x = 36"
   ]
  },
  {
   "cell_type": "code",
   "execution_count": 2,
   "id": "a62a3143-ccf7-4354-974e-8757b52f5cad",
   "metadata": {},
   "outputs": [],
   "source": [
    "y = 25"
   ]
  },
  {
   "cell_type": "code",
   "execution_count": 3,
   "id": "3372a7b9-eea2-4e47-8fd2-a87b5318ed5b",
   "metadata": {},
   "outputs": [],
   "source": [
    "x = x + y\n",
    "y = x - y\n",
    "x = x - y"
   ]
  },
  {
   "cell_type": "code",
   "execution_count": 4,
   "id": "11f0edfe-8479-42ac-b2c4-1ee3499e5cbc",
   "metadata": {},
   "outputs": [
    {
     "name": "stdout",
     "output_type": "stream",
     "text": [
      "After swapping: x = 25 y = 36\n"
     ]
    }
   ],
   "source": [
    "print(\"After swapping: x =\", x, \"y =\" , y)\n",
    "    "
   ]
  },
  {
   "cell_type": "markdown",
   "id": "2dbed07b-2b54-4a1a-9077-a5fc3c23a146",
   "metadata": {},
   "source": [
    "Completed"
   ]
  },
  {
   "cell_type": "markdown",
   "id": "c8d62376-5928-4055-ac4a-772c52fa8782",
   "metadata": {},
   "source": [
    "Q2) Create a program that calculates the area of a rectangle. Take the Lenght and width as inputs from the user and store them in varaibles. Calculate and display the area."
   ]
  },
  {
   "cell_type": "code",
   "execution_count": 5,
   "id": "ed801ccd-4e6e-4ea1-81c3-570dc87fc313",
   "metadata": {},
   "outputs": [
    {
     "name": "stdin",
     "output_type": "stream",
     "text": [
      "Enter the lenght of the rectangle:  20\n",
      "Enter the width of the rectangle:  25\n"
     ]
    }
   ],
   "source": [
    "lenght = float(input(\"Enter the lenght of the rectangle: \"))\n",
    "width = float(input(\"Enter the width of the rectangle: \"))"
   ]
  },
  {
   "cell_type": "code",
   "execution_count": 6,
   "id": "394616ae-bf31-4b66-bc76-f2b1ab464cdd",
   "metadata": {},
   "outputs": [],
   "source": [
    "#Calculate the area\n",
    "area = lenght * width"
   ]
  },
  {
   "cell_type": "code",
   "execution_count": 7,
   "id": "84a1982b-1fd5-4714-a638-aba79954821a",
   "metadata": {},
   "outputs": [
    {
     "name": "stdout",
     "output_type": "stream",
     "text": [
      "The area of the rectangle is : 500.0\n"
     ]
    }
   ],
   "source": [
    "#Display the result \n",
    "print(f\"The area of the rectangle is : {area}\")"
   ]
  },
  {
   "cell_type": "markdown",
   "id": "4974324a-f08d-4daa-8444-b93abd8e8ab0",
   "metadata": {
    "tags": []
   },
   "source": [
    "Completed"
   ]
  },
  {
   "cell_type": "markdown",
   "id": "ffec1c79-1f9b-4d23-baa6-90a0d23af975",
   "metadata": {},
   "source": [
    "Q3) Write a python Program that converts temperature from celsius to Fahrenheit. Take the temperature in Celsius as input. Store it in a variable, convert it to fahrenheit, and display the result."
   ]
  },
  {
   "cell_type": "code",
   "execution_count": 8,
   "id": "c54c57a2-a5a8-46fb-abc7-e76bcff7f79f",
   "metadata": {},
   "outputs": [
    {
     "name": "stdin",
     "output_type": "stream",
     "text": [
      "Enter the temperature in Celsius:  20\n"
     ]
    }
   ],
   "source": [
    "celsius = float(input(\"Enter the temperature in Celsius: \"))"
   ]
  },
  {
   "cell_type": "code",
   "execution_count": 9,
   "id": "1e02f23c-70ac-4b27-927c-61fa92f6928d",
   "metadata": {},
   "outputs": [],
   "source": [
    "#Convert Celsius to Fahrenheit\n",
    "fahrenheit = (celsius * 9/5) + 32"
   ]
  },
  {
   "cell_type": "code",
   "execution_count": 10,
   "id": "ad6d49d7-4b1f-4f01-a54c-a47663884c06",
   "metadata": {},
   "outputs": [
    {
     "name": "stdout",
     "output_type": "stream",
     "text": [
      "The Temperature in Fahrenheit is: 68.00\n"
     ]
    }
   ],
   "source": [
    "print(f\"The Temperature in Fahrenheit is: {fahrenheit:.2f}\")"
   ]
  },
  {
   "cell_type": "markdown",
   "id": "bf95c415-03a9-4d21-b6ff-1ddd1b181505",
   "metadata": {},
   "source": [
    "String Based Questions"
   ]
  },
  {
   "cell_type": "markdown",
   "id": "894753c3-8dda-4138-8132-7713b5a0c1e7",
   "metadata": {},
   "source": [
    "Q1) Write a Python Program that takes a string as input and prints the lenght of the string"
   ]
  },
  {
   "cell_type": "code",
   "execution_count": 11,
   "id": "f69f23bc-68a2-44d3-8f6e-e76093bd1233",
   "metadata": {},
   "outputs": [
    {
     "name": "stdin",
     "output_type": "stream",
     "text": [
      "Enter a string:  Mu name is Abdul Kalam\n"
     ]
    }
   ],
   "source": [
    "input_string = input(\"Enter a string: \")"
   ]
  },
  {
   "cell_type": "code",
   "execution_count": 12,
   "id": "9f096554-d0ca-427c-8720-066ff8423604",
   "metadata": {},
   "outputs": [
    {
     "name": "stdout",
     "output_type": "stream",
     "text": [
      "Lenght of the string: 22\n"
     ]
    }
   ],
   "source": [
    "#Calculate and print the lenght of the string\n",
    "string_lenght = len(input_string)\n",
    "print(\"Lenght of the string:\", string_lenght)"
   ]
  },
  {
   "cell_type": "markdown",
   "id": "27f42aed-8731-4451-b17f-d517e776d6e9",
   "metadata": {},
   "source": [
    "Completed"
   ]
  },
  {
   "cell_type": "markdown",
   "id": "5caa7b09-f406-41ca-982d-2fac37b4095e",
   "metadata": {},
   "source": [
    "Q2) Create a program that takes a sentence from the user and counts the number of vowels (a,e,i,o,u) from the string"
   ]
  },
  {
   "cell_type": "code",
   "execution_count": 13,
   "id": "cc08e70a-df49-4bc8-bbf9-44a6dcfa0c0e",
   "metadata": {},
   "outputs": [
    {
     "name": "stdin",
     "output_type": "stream",
     "text": [
      "Enter a sentence:  I love my parents\n"
     ]
    }
   ],
   "source": [
    "input_sentence = input(\"Enter a sentence: \")"
   ]
  },
  {
   "cell_type": "code",
   "execution_count": 14,
   "id": "ec6d53b7-670e-47e9-9b8c-4cd0902ad063",
   "metadata": {},
   "outputs": [],
   "source": [
    "input_sentence = input_sentence.lower()"
   ]
  },
  {
   "cell_type": "code",
   "execution_count": 15,
   "id": "3967354d-7d77-4376-968b-f47cc4c5e4a0",
   "metadata": {},
   "outputs": [],
   "source": [
    "vowel_count = 0"
   ]
  },
  {
   "cell_type": "code",
   "execution_count": 16,
   "id": "3d35c501-7fad-45a2-8b7b-2645d35700a8",
   "metadata": {},
   "outputs": [],
   "source": [
    "#Define a set of vowels\n",
    "vowels = {'a', 'e', 'i', 'o', 'u'}"
   ]
  },
  {
   "cell_type": "code",
   "execution_count": 17,
   "id": "88719c9b-c01b-42e1-9ed3-bc8f052bdf24",
   "metadata": {},
   "outputs": [],
   "source": [
    "#Count the vowels in the sentence\n",
    "for char in input_sentence:\n",
    "    if char in vowels:\n",
    "        vowel_count += 1"
   ]
  },
  {
   "cell_type": "code",
   "execution_count": 18,
   "id": "91856a04-8933-4a86-a80d-cef500e7994c",
   "metadata": {},
   "outputs": [
    {
     "name": "stdout",
     "output_type": "stream",
     "text": [
      "Number of vowels: 5\n"
     ]
    }
   ],
   "source": [
    "#Print the vowel count\n",
    "print(\"Number of vowels:\", vowel_count)"
   ]
  },
  {
   "cell_type": "markdown",
   "id": "a9f8b1db-4320-4847-b7c9-59443c3d1e6f",
   "metadata": {},
   "source": [
    "Completed"
   ]
  },
  {
   "cell_type": "markdown",
   "id": "39d1b6a4-8a7f-4f2d-9de6-5c1d48ec763a",
   "metadata": {},
   "source": [
    "Q3) Given a string, reverse the order of characters using string slicing and print the reverse string."
   ]
  },
  {
   "cell_type": "code",
   "execution_count": 19,
   "id": "76761528-ffba-41e9-85ae-d6d302ed5f06",
   "metadata": {},
   "outputs": [
    {
     "name": "stdin",
     "output_type": "stream",
     "text": [
      "Enter a string:  Physics Wallah\n"
     ]
    }
   ],
   "source": [
    "input_string = input(\"Enter a string: \")"
   ]
  },
  {
   "cell_type": "code",
   "execution_count": 20,
   "id": "4b774230-366d-4b11-8412-2627526113ab",
   "metadata": {},
   "outputs": [],
   "source": [
    "reversed_string = input_string[::-1]"
   ]
  },
  {
   "cell_type": "code",
   "execution_count": 21,
   "id": "028d135b-165d-444d-b947-a921793b12fb",
   "metadata": {},
   "outputs": [
    {
     "name": "stdout",
     "output_type": "stream",
     "text": [
      "Reversed string: hallaW scisyhP\n"
     ]
    }
   ],
   "source": [
    "print(\"Reversed string:\", reversed_string)"
   ]
  },
  {
   "cell_type": "markdown",
   "id": "4e722862-b5e7-419d-892e-1ddecf8cb386",
   "metadata": {},
   "source": [
    "Completed"
   ]
  },
  {
   "cell_type": "markdown",
   "id": "bed9a711-ea0a-4a20-b900-40e035f2468f",
   "metadata": {},
   "source": [
    "Q4) Write a Program that takes as input and check that if it is a palindrome(reads the same forwards and backwards)"
   ]
  },
  {
   "cell_type": "code",
   "execution_count": 22,
   "id": "11821d20-4e05-48e3-b475-ae6856c5720d",
   "metadata": {},
   "outputs": [
    {
     "name": "stdin",
     "output_type": "stream",
     "text": [
      "Enter a string:  I love my India\n"
     ]
    }
   ],
   "source": [
    "input_string = input(\"Enter a string: \")"
   ]
  },
  {
   "cell_type": "code",
   "execution_count": 23,
   "id": "b8080519-6468-418f-8b25-09956eb8eae2",
   "metadata": {},
   "outputs": [],
   "source": [
    "cleaned_input = input_string.replace(\" \", \"\").lower()"
   ]
  },
  {
   "cell_type": "code",
   "execution_count": 24,
   "id": "98521bd4-6061-4ebf-b6ab-f437d0d94cb0",
   "metadata": {},
   "outputs": [
    {
     "name": "stdout",
     "output_type": "stream",
     "text": [
      "The input is not a palindrome.\n"
     ]
    }
   ],
   "source": [
    "if cleaned_input == cleaned_input[::-1]:\n",
    "    print(\"The input is a palindrome.\")\n",
    "else:\n",
    "    print(\"The input is not a palindrome.\")  "
   ]
  },
  {
   "cell_type": "markdown",
   "id": "21662d27-2c53-449e-9e86-2c6321d9de4a",
   "metadata": {},
   "source": [
    "Completed"
   ]
  },
  {
   "cell_type": "markdown",
   "id": "6443d555-735b-46a3-9190-860a70e593e7",
   "metadata": {},
   "source": [
    "Q5) Create a program that takes a string as input and remove all the spaces from it. Print the modified string without spaces."
   ]
  },
  {
   "cell_type": "code",
   "execution_count": 25,
   "id": "0546e04b-45ea-4de5-a9f5-71f0cb413ee7",
   "metadata": {},
   "outputs": [
    {
     "name": "stdin",
     "output_type": "stream",
     "text": [
      "Enter a string:  I love to read comic books\n"
     ]
    }
   ],
   "source": [
    "input_string = input(\"Enter a string: \")"
   ]
  },
  {
   "cell_type": "code",
   "execution_count": 26,
   "id": "344639ae-4c36-4907-863a-03bab60e732b",
   "metadata": {},
   "outputs": [],
   "source": [
    "modified_string = input_string.replace(\" \", \"\")"
   ]
  },
  {
   "cell_type": "code",
   "execution_count": 27,
   "id": "8442f6ca-fc78-4f21-9afe-811122cbde4e",
   "metadata": {},
   "outputs": [
    {
     "name": "stdout",
     "output_type": "stream",
     "text": [
      "Modified string: Ilovetoreadcomicbooks\n"
     ]
    }
   ],
   "source": [
    "print(\"Modified string:\", modified_string)"
   ]
  },
  {
   "cell_type": "markdown",
   "id": "617dd8de-9052-4539-843b-332f9eb002d0",
   "metadata": {},
   "source": [
    "All the Questions Completed. Thanks to Physics Wallah and especially to sudhanshu sir for this greatfull assignment."
   ]
  }
 ],
 "metadata": {
  "kernelspec": {
   "display_name": "Python 3 (ipykernel)",
   "language": "python",
   "name": "python3"
  },
  "language_info": {
   "codemirror_mode": {
    "name": "ipython",
    "version": 3
   },
   "file_extension": ".py",
   "mimetype": "text/x-python",
   "name": "python",
   "nbconvert_exporter": "python",
   "pygments_lexer": "ipython3",
   "version": "3.10.8"
  }
 },
 "nbformat": 4,
 "nbformat_minor": 5
}
